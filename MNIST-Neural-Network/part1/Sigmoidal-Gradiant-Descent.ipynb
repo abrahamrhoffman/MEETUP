{
 "cells": [
  {
   "cell_type": "markdown",
   "metadata": {},
   "source": [
    "<h1>Phoenix AI & Machine Learning Group</h1>\n",
    "<h2>Let's get Neural: Solving the MNIST Dataset (Python) Part 1/3</h2>"
   ]
  },
  {
   "cell_type": "markdown",
   "metadata": {},
   "source": [
    "<h4>Community Support</h4>\n",
    "\n",
    "As always, a generous shoutout to the community, without these contributions, my understanding of Neural Networks would have taken much longer! <br>\n",
    "\n",
    "Most code directly copied from: http://outlace.com/Beginner-Tutorial-Backpropagation/"
   ]
  },
  {
   "cell_type": "markdown",
   "metadata": {},
   "source": [
    "<h2>Sigmoidal Gradient Descent</h2>"
   ]
  },
  {
   "cell_type": "code",
   "execution_count": 6,
   "metadata": {
    "collapsed": false
   },
   "outputs": [
    {
     "name": "stdout",
     "output_type": "stream",
     "text": [
      "Initial Weight: [[ 2.1614142 ]\n",
      " [-8.84530806]]\n",
      "\n",
      "Cost Before Gradient Descent: 0.0 \n",
      "\n",
      "Final Weight: [[ 2.25059993]\n",
      " [-8.75612232]]\n",
      "\n",
      "Final Cost: 0.0 \n",
      "\n",
      "Result:\n",
      "\n",
      "[[ 0.]\n",
      " [ 0.]]\n",
      "Expected Result\n",
      "\n",
      "[[1]\n",
      " [0]]\n"
     ]
    }
   ],
   "source": [
    "import numpy as np\n",
    "import matplotlib.pyplot as plt\n",
    "#Our training data\n",
    "X = np.matrix('0 1;1 1')\n",
    "y = np.matrix('1;0')\n",
    "#Let's randomly initialize weights\n",
    "weights = np.matrix(np.random.normal(0, 5, (2,1)))\n",
    "def sigmoid(x):\n",
    "    return np.matrix(1.0 / (1.0 + np.exp(-x)))\n",
    "\n",
    "#run the neural net forward\n",
    "def run(X, weights):\n",
    "\treturn sigmoid(X * weights) #1x2 * 2x2 = 1x1 matrix\n",
    "\n",
    "#Our cost function\n",
    "def cost(X, y, weights):\n",
    "    nn_output = run(X, weights)\n",
    "    m = X.shape[0] #num training examples, 2\n",
    "    return np.sum((1/m) * np.square(nn_output - y))\n",
    "\n",
    "print('Initial Weight: %s\\n' % weights)\n",
    "print('Cost Before Gradient Descent: %s \\n' % cost(X, y, weights))\n",
    "#Gradient Descent\n",
    "alpha = 0.05 #learning rate\n",
    "epochs = 12000 #num iterations\n",
    "for i in range(epochs):\n",
    "    #Here we calculate the partial derivatives of the cost function for each weight\n",
    "    costD1 = np.sum(np.multiply((run(X, weights) - y), np.multiply(run(X, weights), (1 - run(X, weights)))))\n",
    "    costD2 = np.sum(X[:,0] * np.multiply((run(X, weights) - y), np.multiply(run(X, weights), (1 - run(X, weights)))).T)\n",
    "    weights[0] = weights[0] - alpha * costD1\n",
    "    weights[1] = weights[1] - alpha * costD2\n",
    "print('Final Weight: %s\\n' % weights)\n",
    "print('Final Cost: %s \\n' % cost(X, y, weights))\n",
    "print('Result:\\n')\n",
    "print(np.round(run(X, weights)))\n",
    "print('Expected Result\\n')\n",
    "print(y)"
   ]
  }
 ],
 "metadata": {
  "kernelspec": {
   "display_name": "Python 2",
   "language": "python",
   "name": "python2"
  },
  "language_info": {
   "codemirror_mode": {
    "name": "ipython",
    "version": 2
   },
   "file_extension": ".py",
   "mimetype": "text/x-python",
   "name": "python",
   "nbconvert_exporter": "python",
   "pygments_lexer": "ipython2",
   "version": "2.7.10"
  }
 },
 "nbformat": 4,
 "nbformat_minor": 1
}
